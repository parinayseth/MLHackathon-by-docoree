{
 "cells": [
  {
   "cell_type": "code",
   "execution_count": 1,
   "metadata": {},
   "outputs": [],
   "source": [
    "import pandas as pd\n",
    "import numpy as np\n",
    "import re\n",
    "import nltk\n",
    "from nltk.corpus import stopwords\n",
    "from nltk.stem import WordNetLemmatizer\n",
    "from sklearn.feature_extraction.text import CountVectorizer\n",
    "from sklearn.naive_bayes import MultinomialNB\n",
    "from sklearn.metrics import accuracy_score\n",
    "from sklearn.model_selection import train_test_split\n"
   ]
  },
  {
   "cell_type": "code",
   "execution_count": 21,
   "metadata": {},
   "outputs": [],
   "source": [
    "# loading the dataset\"\n",
    "train = pd.read_csv(\"Doceree-HCP_Train.csv\", encoding='unicode_escape', on_bad_lines='skip')\n"
   ]
  },
  {
   "cell_type": "code",
   "execution_count": 82,
   "metadata": {},
   "outputs": [],
   "source": [
    "test = pd.read_csv(\"Doceree-HCP_Test.csv\", encoding='unicode_escape', on_bad_lines='skip')"
   ]
  },
  {
   "attachments": {},
   "cell_type": "markdown",
   "metadata": {},
   "source": [
    "# DATA CLEANING"
   ]
  },
  {
   "attachments": {},
   "cell_type": "markdown",
   "metadata": {},
   "source": [
    "## Applying on the Train Set"
   ]
  },
  {
   "cell_type": "code",
   "execution_count": 22,
   "metadata": {},
   "outputs": [
    {
     "data": {
      "text/plain": [
       "(113937, 14)"
      ]
     },
     "execution_count": 22,
     "metadata": {},
     "output_type": "execute_result"
    }
   ],
   "source": [
    "train.shape"
   ]
  },
  {
   "cell_type": "code",
   "execution_count": 23,
   "metadata": {},
   "outputs": [
    {
     "data": {
      "text/plain": [
       "ID                     0\n",
       "DEVICETYPE             0\n",
       "PLATFORM_ID            0\n",
       "BIDREQUESTIP           0\n",
       "USERPLATFORMUID        4\n",
       "USERCITY            6359\n",
       "USERZIPCODE         4592\n",
       "USERAGENT              2\n",
       "PLATFORMTYPE           0\n",
       "CHANNELTYPE            0\n",
       "URL                    0\n",
       "KEYWORDS               0\n",
       "TAXONOMY           81624\n",
       "IS_HCP                 1\n",
       "dtype: int64"
      ]
     },
     "execution_count": 23,
     "metadata": {},
     "output_type": "execute_result"
    }
   ],
   "source": [
    "train.isnull().sum()"
   ]
  },
  {
   "cell_type": "code",
   "execution_count": 24,
   "metadata": {},
   "outputs": [
    {
     "data": {
      "text/html": [
       "<div>\n",
       "<style scoped>\n",
       "    .dataframe tbody tr th:only-of-type {\n",
       "        vertical-align: middle;\n",
       "    }\n",
       "\n",
       "    .dataframe tbody tr th {\n",
       "        vertical-align: top;\n",
       "    }\n",
       "\n",
       "    .dataframe thead th {\n",
       "        text-align: right;\n",
       "    }\n",
       "</style>\n",
       "<table border=\"1\" class=\"dataframe\">\n",
       "  <thead>\n",
       "    <tr style=\"text-align: right;\">\n",
       "      <th></th>\n",
       "      <th>ID</th>\n",
       "      <th>DEVICETYPE</th>\n",
       "      <th>PLATFORM_ID</th>\n",
       "      <th>BIDREQUESTIP</th>\n",
       "      <th>USERPLATFORMUID</th>\n",
       "      <th>USERCITY</th>\n",
       "      <th>USERZIPCODE</th>\n",
       "      <th>USERAGENT</th>\n",
       "      <th>PLATFORMTYPE</th>\n",
       "      <th>CHANNELTYPE</th>\n",
       "      <th>URL</th>\n",
       "      <th>KEYWORDS</th>\n",
       "      <th>TAXONOMY</th>\n",
       "      <th>IS_HCP</th>\n",
       "    </tr>\n",
       "  </thead>\n",
       "  <tbody>\n",
       "    <tr>\n",
       "      <th>73790</th>\n",
       "      <td>74791</td>\n",
       "      <td>Mobile</td>\n",
       "      <td>9</td>\n",
       "      <td>47.147.27.131</td>\n",
       "      <td>e180c16e-a393-48aa-ac14-7353faad95ee</td>\n",
       "      <td>Hacienda Heights</td>\n",
       "      <td>91745.0</td>\n",
       "      <td>Mozilla/5.0 (iPhone; CPU iPhone OS 15_6_1 like...</td>\n",
       "      <td>Online Medical Journal</td>\n",
       "      <td>Website</td>\n",
       "      <td>https://www.2minutemedicine.com/the-accord-tri...</td>\n",
       "      <td>Anemia|Delivery|Oncology|Medicine|Diabetes Mel...</td>\n",
       "      <td>NaN</td>\n",
       "      <td>NaN</td>\n",
       "    </tr>\n",
       "  </tbody>\n",
       "</table>\n",
       "</div>"
      ],
      "text/plain": [
       "          ID DEVICETYPE  PLATFORM_ID   BIDREQUESTIP  \\\n",
       "73790  74791     Mobile            9  47.147.27.131   \n",
       "\n",
       "                            USERPLATFORMUID          USERCITY  USERZIPCODE  \\\n",
       "73790  e180c16e-a393-48aa-ac14-7353faad95ee  Hacienda Heights      91745.0   \n",
       "\n",
       "                                               USERAGENT  \\\n",
       "73790  Mozilla/5.0 (iPhone; CPU iPhone OS 15_6_1 like...   \n",
       "\n",
       "                 PLATFORMTYPE CHANNELTYPE  \\\n",
       "73790  Online Medical Journal     Website   \n",
       "\n",
       "                                                     URL  \\\n",
       "73790  https://www.2minutemedicine.com/the-accord-tri...   \n",
       "\n",
       "                                                KEYWORDS TAXONOMY  IS_HCP  \n",
       "73790  Anemia|Delivery|Oncology|Medicine|Diabetes Mel...      NaN     NaN  "
      ]
     },
     "execution_count": 24,
     "metadata": {},
     "output_type": "execute_result"
    }
   ],
   "source": [
    "# Extracting rows where IS_HCP is Null\n",
    "train.loc[train[\"IS_HCP\"].isnull()]"
   ]
  },
  {
   "cell_type": "code",
   "execution_count": 27,
   "metadata": {},
   "outputs": [],
   "source": [
    "# Now as we know our target columns are IS_NULL and TAXOMONY we try to remove the outliers\n",
    "# Calculating the outliers\n",
    "Q1 = train['IS_HCP'].quantile(0.25)\n",
    "Q3 = train['IS_HCP'].quantile(0.75)\n",
    "IQR = Q3 - Q1\n",
    "lower_limit = Q1 - 1.5*IQR\n",
    "upper_limit = Q3 + 1.5*IQR\n",
    "\n",
    "# Removing the outliers\n",
    "train = train[(train['IS_HCP'] > lower_limit) & (train['IS_HCP'] < upper_limit)]"
   ]
  },
  {
   "cell_type": "code",
   "execution_count": 28,
   "metadata": {},
   "outputs": [
    {
     "data": {
      "text/plain": [
       "ID                     0\n",
       "DEVICETYPE             0\n",
       "PLATFORM_ID            0\n",
       "BIDREQUESTIP           0\n",
       "USERPLATFORMUID        4\n",
       "USERCITY            6359\n",
       "USERZIPCODE         4592\n",
       "USERAGENT              2\n",
       "PLATFORMTYPE           0\n",
       "CHANNELTYPE            0\n",
       "URL                    0\n",
       "KEYWORDS               0\n",
       "TAXONOMY           81623\n",
       "IS_HCP                 0\n",
       "dtype: int64"
      ]
     },
     "execution_count": 28,
     "metadata": {},
     "output_type": "execute_result"
    }
   ],
   "source": [
    "#now again checking null values after outliers\n",
    "train.isnull().sum()"
   ]
  },
  {
   "cell_type": "code",
   "execution_count": 45,
   "metadata": {},
   "outputs": [],
   "source": [
    "# Now we will work on the missing values of USER CITY adn USERZIP Columns\n",
    "\n",
    "\n",
    "# Uupdating the values for USERZIPCODE (where both USERZIPCODE AND USERCITY have null values)\n",
    "condition1= (train[\"USERCITY\"].isnull())\n",
    "condition2= (train[\"USERZIPCODE\"].isnull())\n",
    "train.loc[condition1 & condition2, \"USERZIPCODE\"] = 0\n",
    "train.loc[condition1 & condition2, \"USERCITY\"] = 'Not_Specified'\n",
    "\n",
    "# Now updating the zip code of the 2 remaining missing userzip rows\n",
    "index = train[train[\"USERCITY\"]==\"Bynumville\"].index\n",
    "train.loc[index, \"USERZIPCODE\"]='65281'"
   ]
  },
  {
   "cell_type": "code",
   "execution_count": 47,
   "metadata": {},
   "outputs": [
    {
     "data": {
      "text/plain": [
       "ID                     0\n",
       "DEVICETYPE             0\n",
       "PLATFORM_ID            0\n",
       "BIDREQUESTIP           0\n",
       "USERPLATFORMUID        4\n",
       "USERCITY            1769\n",
       "USERZIPCODE            0\n",
       "USERAGENT              2\n",
       "PLATFORMTYPE           0\n",
       "CHANNELTYPE            0\n",
       "URL                    0\n",
       "KEYWORDS               0\n",
       "TAXONOMY           81623\n",
       "IS_HCP                 0\n",
       "dtype: int64"
      ]
     },
     "execution_count": 47,
     "metadata": {},
     "output_type": "execute_result"
    }
   ],
   "source": [
    "train.isnull().sum()"
   ]
  },
  {
   "cell_type": "code",
   "execution_count": 55,
   "metadata": {},
   "outputs": [],
   "source": [
    "# Creating a copy of train dataframe   \n",
    "temp = train.copy()"
   ]
  },
  {
   "cell_type": "code",
   "execution_count": 56,
   "metadata": {},
   "outputs": [
    {
     "data": {
      "text/plain": [
       "ID                     0\n",
       "DEVICETYPE             0\n",
       "PLATFORM_ID            0\n",
       "BIDREQUESTIP           0\n",
       "USERPLATFORMUID        4\n",
       "USERCITY            1769\n",
       "USERZIPCODE            0\n",
       "USERAGENT              2\n",
       "PLATFORMTYPE           0\n",
       "CHANNELTYPE            0\n",
       "URL                    0\n",
       "KEYWORDS               0\n",
       "TAXONOMY           81623\n",
       "IS_HCP                 0\n",
       "dtype: int64"
      ]
     },
     "execution_count": 56,
     "metadata": {},
     "output_type": "execute_result"
    }
   ],
   "source": [
    "temp.isnull().sum()"
   ]
  },
  {
   "cell_type": "code",
   "execution_count": 60,
   "metadata": {},
   "outputs": [],
   "source": [
    "# Now we will be handling the USERCITY we will use the Geopy library to extract the city names with the help of zip code \n",
    "from geopy.geocoders import Nominatim\n",
    "geolocator = Nominatim(user_agent=\"geocoder\")\n",
    "\n",
    "for index, row in temp.iterrows():\n",
    "    if pd.isnull(row[\"USERCITY\"]):\n",
    "        zipcode = row[\"USERZIPCODE\"]\n",
    "        location = geolocator.geocode(zipcode)\n",
    "        if location is not None:\n",
    "            address = location.address\n",
    "            address_parts = address.split(\",\")\n",
    "            if len(address_parts) >= 3:\n",
    "                city = address_parts[-3].strip()\n",
    "                temp.at[index, \"USERCITY\"] = city\n"
   ]
  },
  {
   "cell_type": "code",
   "execution_count": 61,
   "metadata": {},
   "outputs": [
    {
     "data": {
      "text/plain": [
       "ID                     0\n",
       "DEVICETYPE             0\n",
       "PLATFORM_ID            0\n",
       "BIDREQUESTIP           0\n",
       "USERPLATFORMUID        4\n",
       "USERCITY               0\n",
       "USERZIPCODE            0\n",
       "USERAGENT              2\n",
       "PLATFORMTYPE           0\n",
       "CHANNELTYPE            0\n",
       "URL                    0\n",
       "KEYWORDS               0\n",
       "TAXONOMY           81623\n",
       "IS_HCP                 0\n",
       "dtype: int64"
      ]
     },
     "execution_count": 61,
     "metadata": {},
     "output_type": "execute_result"
    }
   ],
   "source": [
    "temp.isnull().sum()"
   ]
  },
  {
   "cell_type": "code",
   "execution_count": 59,
   "metadata": {},
   "outputs": [],
   "source": [
    "#converting userzipcode into int type in temp data fram  \n",
    "temp[\"USERZIPCODE\"]= temp[\"USERZIPCODE\"].astype(int)"
   ]
  },
  {
   "cell_type": "code",
   "execution_count": 62,
   "metadata": {},
   "outputs": [
    {
     "data": {
      "text/plain": [
       "ID                     0\n",
       "DEVICETYPE             0\n",
       "PLATFORM_ID            0\n",
       "BIDREQUESTIP           0\n",
       "USERPLATFORMUID        4\n",
       "USERCITY               0\n",
       "USERZIPCODE            0\n",
       "USERAGENT              2\n",
       "PLATFORMTYPE           0\n",
       "CHANNELTYPE            0\n",
       "URL                    0\n",
       "KEYWORDS               0\n",
       "TAXONOMY           81623\n",
       "IS_HCP                 0\n",
       "dtype: int64"
      ]
     },
     "execution_count": 62,
     "metadata": {},
     "output_type": "execute_result"
    }
   ],
   "source": [
    "# Updating our training dataframe after changes in temp dataframe\n",
    "train = temp.copy()\n",
    "\n",
    "train.isnull().sum()"
   ]
  },
  {
   "cell_type": "code",
   "execution_count": 63,
   "metadata": {},
   "outputs": [],
   "source": [
    "# Now updating the remaining NULL ROWS by providing empyt string\n",
    "\n",
    "train.loc[train[\"USERPLATFORMUID\"].isnull()]= ' '\n",
    "train.loc[train[\"USERAGENT\"].isnull()]= ' '\n",
    "train.loc[train[\"TAXONOMY\"].isnull()]= ' '\n"
   ]
  },
  {
   "cell_type": "code",
   "execution_count": 64,
   "metadata": {},
   "outputs": [],
   "source": [
    "# removing extra spaces \n",
    "train.replace(' ','_', regex=True, inplace=True  )"
   ]
  },
  {
   "cell_type": "code",
   "execution_count": 65,
   "metadata": {},
   "outputs": [
    {
     "data": {
      "text/plain": [
       "ID                 0\n",
       "DEVICETYPE         0\n",
       "PLATFORM_ID        0\n",
       "BIDREQUESTIP       0\n",
       "USERPLATFORMUID    0\n",
       "USERCITY           0\n",
       "USERZIPCODE        0\n",
       "USERAGENT          0\n",
       "PLATFORMTYPE       0\n",
       "CHANNELTYPE        0\n",
       "URL                0\n",
       "KEYWORDS           0\n",
       "TAXONOMY           0\n",
       "IS_HCP             0\n",
       "dtype: int64"
      ]
     },
     "execution_count": 65,
     "metadata": {},
     "output_type": "execute_result"
    }
   ],
   "source": [
    "train.isnull().sum()"
   ]
  },
  {
   "cell_type": "code",
   "execution_count": 66,
   "metadata": {},
   "outputs": [],
   "source": [
    "train.to_csv(\"cleantrain.csv\", index=False)"
   ]
  },
  {
   "attachments": {},
   "cell_type": "markdown",
   "metadata": {},
   "source": [
    "## Applying on TEST SET"
   ]
  },
  {
   "cell_type": "code",
   "execution_count": 83,
   "metadata": {},
   "outputs": [
    {
     "data": {
      "text/plain": [
       "ID                    0\n",
       "DEVICETYPE            0\n",
       "PLATFORM_ID           0\n",
       "BIDREQUESTIP          0\n",
       "USERPLATFORMUID       0\n",
       "USERCITY           1559\n",
       "USERZIPCODE        1115\n",
       "USERAGENT             1\n",
       "PLATFORMTYPE          0\n",
       "CHANNELTYPE           0\n",
       "URL                   0\n",
       "KEYWORDS              0\n",
       "dtype: int64"
      ]
     },
     "execution_count": 83,
     "metadata": {},
     "output_type": "execute_result"
    }
   ],
   "source": [
    "test.isnull().sum()"
   ]
  },
  {
   "cell_type": "code",
   "execution_count": 84,
   "metadata": {},
   "outputs": [],
   "source": [
    "# We will handle the USERCITY AND USERZIP CODE \n",
    "\n",
    "# First assigning values where both values are NUll\n",
    "test.loc[test['USERCITY'].isnull() & test['USERZIPCODE'].isnull(), 'USERZIPCODE'] = 0\n",
    "test.loc[test['USERCITY'].isnull() & test['USERZIPCODE'].isnull(), 'USERCITY'] = 'Not_Specified'\n"
   ]
  },
  {
   "cell_type": "code",
   "execution_count": 85,
   "metadata": {},
   "outputs": [
    {
     "data": {
      "text/plain": [
       "ID                    0\n",
       "DEVICETYPE            0\n",
       "PLATFORM_ID           0\n",
       "BIDREQUESTIP          0\n",
       "USERPLATFORMUID       0\n",
       "USERCITY           1559\n",
       "USERZIPCODE           0\n",
       "USERAGENT             1\n",
       "PLATFORMTYPE          0\n",
       "CHANNELTYPE           0\n",
       "URL                   0\n",
       "KEYWORDS              0\n",
       "dtype: int64"
      ]
     },
     "execution_count": 85,
     "metadata": {},
     "output_type": "execute_result"
    }
   ],
   "source": [
    "test.isnull().sum()"
   ]
  },
  {
   "cell_type": "code",
   "execution_count": 91,
   "metadata": {},
   "outputs": [
    {
     "data": {
      "text/plain": [
       "ID                 0\n",
       "DEVICETYPE         0\n",
       "PLATFORM_ID        0\n",
       "BIDREQUESTIP       0\n",
       "USERPLATFORMUID    0\n",
       "USERCITY           3\n",
       "USERZIPCODE        0\n",
       "USERAGENT          1\n",
       "PLATFORMTYPE       0\n",
       "CHANNELTYPE        0\n",
       "URL                0\n",
       "KEYWORDS           0\n",
       "dtype: int64"
      ]
     },
     "execution_count": 91,
     "metadata": {},
     "output_type": "execute_result"
    }
   ],
   "source": [
    "# Now we will get the USERCITY which are empty fromm the USERZIP CODES, similarly we create a temporary data frame to updata it \n",
    "temp = test.copy()\n",
    "\n",
    "from geopy.geocoders import Nominatim\n",
    "geolocator = Nominatim(user_agent=\"geocoder\")\n",
    "\n",
    "for index, row in temp.iterrows():  \n",
    "    if pd.isnull(row[\"USERCITY\"]):\n",
    "        zipcode = row[\"USERZIPCODE\"]\n",
    "        location = geolocator.geocode(zipcode)\n",
    "        if location is not None:\n",
    "            address = location.address\n",
    "            address_parts = address.split(\",\")\n",
    "            if len(address_parts) >= 3:\n",
    "                city = address_parts[-3].strip()\n",
    "                temp.at[index, \"USERCITY\"] = city\n",
    "\n",
    "\n",
    "temp.isnull().sum()\n"
   ]
  },
  {
   "cell_type": "code",
   "execution_count": 92,
   "metadata": {},
   "outputs": [
    {
     "data": {
      "text/plain": [
       "ID                 0\n",
       "DEVICETYPE         0\n",
       "PLATFORM_ID        0\n",
       "BIDREQUESTIP       0\n",
       "USERPLATFORMUID    0\n",
       "USERCITY           3\n",
       "USERZIPCODE        0\n",
       "USERAGENT          1\n",
       "PLATFORMTYPE       0\n",
       "CHANNELTYPE        0\n",
       "URL                0\n",
       "KEYWORDS           0\n",
       "dtype: int64"
      ]
     },
     "execution_count": 92,
     "metadata": {},
     "output_type": "execute_result"
    }
   ],
   "source": [
    "temp.isnull().sum()\n"
   ]
  },
  {
   "cell_type": "code",
   "execution_count": 87,
   "metadata": {},
   "outputs": [],
   "source": [
    "temp[\"USERZIPCODE\"]= temp[\"USERZIPCODE\"].astype(int)"
   ]
  },
  {
   "cell_type": "code",
   "execution_count": 94,
   "metadata": {},
   "outputs": [
    {
     "data": {
      "text/html": [
       "<div>\n",
       "<style scoped>\n",
       "    .dataframe tbody tr th:only-of-type {\n",
       "        vertical-align: middle;\n",
       "    }\n",
       "\n",
       "    .dataframe tbody tr th {\n",
       "        vertical-align: top;\n",
       "    }\n",
       "\n",
       "    .dataframe thead th {\n",
       "        text-align: right;\n",
       "    }\n",
       "</style>\n",
       "<table border=\"1\" class=\"dataframe\">\n",
       "  <thead>\n",
       "    <tr style=\"text-align: right;\">\n",
       "      <th></th>\n",
       "      <th>ID</th>\n",
       "      <th>DEVICETYPE</th>\n",
       "      <th>PLATFORM_ID</th>\n",
       "      <th>BIDREQUESTIP</th>\n",
       "      <th>USERPLATFORMUID</th>\n",
       "      <th>USERCITY</th>\n",
       "      <th>USERZIPCODE</th>\n",
       "      <th>USERAGENT</th>\n",
       "      <th>PLATFORMTYPE</th>\n",
       "      <th>CHANNELTYPE</th>\n",
       "      <th>URL</th>\n",
       "      <th>KEYWORDS</th>\n",
       "    </tr>\n",
       "  </thead>\n",
       "  <tbody>\n",
       "    <tr>\n",
       "      <th>5122</th>\n",
       "      <td>120623</td>\n",
       "      <td>Desktop</td>\n",
       "      <td>3</td>\n",
       "      <td>12.111.139.130</td>\n",
       "      <td>ddda887b-878b-43d3-b665-ae2bcb674478</td>\n",
       "      <td>NaN</td>\n",
       "      <td>97227.0</td>\n",
       "      <td>Mozilla/5.0 (Windows NT 10.0; Win64; x64) Appl...</td>\n",
       "      <td>Online Medical Journal</td>\n",
       "      <td>Website</td>\n",
       "      <td>https://globalrph.com/drugs/anti-depressants/</td>\n",
       "      <td>Pharmacology|Liver Dysfunction|Elderly|Liver|C...</td>\n",
       "    </tr>\n",
       "    <tr>\n",
       "      <th>6589</th>\n",
       "      <td>122090</td>\n",
       "      <td>Desktop</td>\n",
       "      <td>3</td>\n",
       "      <td>12.111.139.130</td>\n",
       "      <td>ddda887b-878b-43d3-b665-ae2bcb674478</td>\n",
       "      <td>NaN</td>\n",
       "      <td>97227.0</td>\n",
       "      <td>Mozilla/5.0 (Windows NT 10.0; Win64; x64) Appl...</td>\n",
       "      <td>Online Medical Journal</td>\n",
       "      <td>Website</td>\n",
       "      <td>https://globalrph.com/drugs/anti-depressants/</td>\n",
       "      <td>Pharmacology|Liver Dysfunction|Elderly|Liver|C...</td>\n",
       "    </tr>\n",
       "    <tr>\n",
       "      <th>15394</th>\n",
       "      <td>130895</td>\n",
       "      <td>Desktop</td>\n",
       "      <td>3</td>\n",
       "      <td>172.5.156.181</td>\n",
       "      <td>34182a0b-413e-4da7-b760-41dcc3cee1a7</td>\n",
       "      <td>NaN</td>\n",
       "      <td>95403.0</td>\n",
       "      <td>Mozilla/5.0 (Macintosh; Intel Mac OS X 10_15_7...</td>\n",
       "      <td>Online Medical Journal</td>\n",
       "      <td>Website</td>\n",
       "      <td>https://globalrph.com/medcalcs/protein-require...</td>\n",
       "      <td>Gastrointestinal Tract|Female|Oncology|Medicin...</td>\n",
       "    </tr>\n",
       "  </tbody>\n",
       "</table>\n",
       "</div>"
      ],
      "text/plain": [
       "           ID DEVICETYPE  PLATFORM_ID    BIDREQUESTIP  \\\n",
       "5122   120623    Desktop            3  12.111.139.130   \n",
       "6589   122090    Desktop            3  12.111.139.130   \n",
       "15394  130895    Desktop            3   172.5.156.181   \n",
       "\n",
       "                            USERPLATFORMUID USERCITY  USERZIPCODE  \\\n",
       "5122   ddda887b-878b-43d3-b665-ae2bcb674478      NaN      97227.0   \n",
       "6589   ddda887b-878b-43d3-b665-ae2bcb674478      NaN      97227.0   \n",
       "15394  34182a0b-413e-4da7-b760-41dcc3cee1a7      NaN      95403.0   \n",
       "\n",
       "                                               USERAGENT  \\\n",
       "5122   Mozilla/5.0 (Windows NT 10.0; Win64; x64) Appl...   \n",
       "6589   Mozilla/5.0 (Windows NT 10.0; Win64; x64) Appl...   \n",
       "15394  Mozilla/5.0 (Macintosh; Intel Mac OS X 10_15_7...   \n",
       "\n",
       "                 PLATFORMTYPE CHANNELTYPE  \\\n",
       "5122   Online Medical Journal     Website   \n",
       "6589   Online Medical Journal     Website   \n",
       "15394  Online Medical Journal     Website   \n",
       "\n",
       "                                                     URL  \\\n",
       "5122       https://globalrph.com/drugs/anti-depressants/   \n",
       "6589       https://globalrph.com/drugs/anti-depressants/   \n",
       "15394  https://globalrph.com/medcalcs/protein-require...   \n",
       "\n",
       "                                                KEYWORDS  \n",
       "5122   Pharmacology|Liver Dysfunction|Elderly|Liver|C...  \n",
       "6589   Pharmacology|Liver Dysfunction|Elderly|Liver|C...  \n",
       "15394  Gastrointestinal Tract|Female|Oncology|Medicin...  "
      ]
     },
     "execution_count": 94,
     "metadata": {},
     "output_type": "execute_result"
    }
   ],
   "source": [
    "temp.loc[temp['USERCITY'].isnull()]"
   ]
  },
  {
   "cell_type": "code",
   "execution_count": 80,
   "metadata": {},
   "outputs": [],
   "source": [
    "test = temp.copy()"
   ]
  },
  {
   "cell_type": "code",
   "execution_count": 71,
   "metadata": {},
   "outputs": [],
   "source": [
    "# Now updating the remaining NULL ROWS by providing empyt string\n",
    "\n",
    "test.loc[test[\"USERAGENT\"].isnull()]= ' '\n",
    "test.loc[test[\"KEYWORDS\"].isnull()]= ' '\n"
   ]
  },
  {
   "cell_type": "code",
   "execution_count": 81,
   "metadata": {},
   "outputs": [
    {
     "data": {
      "text/plain": [
       "ID                    0\n",
       "DEVICETYPE            0\n",
       "PLATFORM_ID           0\n",
       "BIDREQUESTIP          0\n",
       "USERPLATFORMUID       0\n",
       "USERCITY           1515\n",
       "USERZIPCODE           0\n",
       "USERAGENT             1\n",
       "PLATFORMTYPE          0\n",
       "CHANNELTYPE           0\n",
       "URL                   0\n",
       "KEYWORDS              0\n",
       "dtype: int64"
      ]
     },
     "execution_count": 81,
     "metadata": {},
     "output_type": "execute_result"
    }
   ],
   "source": [
    "test.isnull().sum()"
   ]
  },
  {
   "cell_type": "code",
   "execution_count": 111,
   "metadata": {},
   "outputs": [],
   "source": [
    "test.to_csv('cleantest.csv', index=False)"
   ]
  },
  {
   "cell_type": "code",
   "execution_count": 113,
   "metadata": {},
   "outputs": [
    {
     "data": {
      "text/plain": [
       "Index(['ID', 'DEVICETYPE', 'PLATFORM_ID', 'BIDREQUESTIP', 'USERPLATFORMUID',\n",
       "       'USERCITY', 'USERZIPCODE', 'USERAGENT', 'PLATFORMTYPE', 'CHANNELTYPE',\n",
       "       'URL', 'KEYWORDS', 'TAXONOMY', 'IS_HCP'],\n",
       "      dtype='object')"
      ]
     },
     "execution_count": 113,
     "metadata": {},
     "output_type": "execute_result"
    }
   ],
   "source": [
    "train.columns"
   ]
  },
  {
   "cell_type": "code",
   "execution_count": 118,
   "metadata": {},
   "outputs": [
    {
     "data": {
      "text/html": [
       "<div>\n",
       "<style scoped>\n",
       "    .dataframe tbody tr th:only-of-type {\n",
       "        vertical-align: middle;\n",
       "    }\n",
       "\n",
       "    .dataframe tbody tr th {\n",
       "        vertical-align: top;\n",
       "    }\n",
       "\n",
       "    .dataframe thead th {\n",
       "        text-align: right;\n",
       "    }\n",
       "</style>\n",
       "<table border=\"1\" class=\"dataframe\">\n",
       "  <thead>\n",
       "    <tr style=\"text-align: right;\">\n",
       "      <th></th>\n",
       "      <th>ID</th>\n",
       "      <th>DEVICETYPE</th>\n",
       "      <th>PLATFORM_ID</th>\n",
       "      <th>BIDREQUESTIP</th>\n",
       "      <th>USERPLATFORMUID</th>\n",
       "      <th>USERCITY</th>\n",
       "      <th>USERZIPCODE</th>\n",
       "      <th>USERAGENT</th>\n",
       "      <th>PLATFORMTYPE</th>\n",
       "      <th>CHANNELTYPE</th>\n",
       "      <th>URL</th>\n",
       "      <th>KEYWORDS</th>\n",
       "      <th>TAXONOMY</th>\n",
       "      <th>IS_HCP</th>\n",
       "    </tr>\n",
       "  </thead>\n",
       "  <tbody>\n",
       "    <tr>\n",
       "      <th>103516</th>\n",
       "      <td>104230</td>\n",
       "      <td>Desktop</td>\n",
       "      <td>2.0</td>\n",
       "      <td>68.129.74.33</td>\n",
       "      <td>46aee387-36ee-4f61-a458-dddba65e7a79</td>\n",
       "      <td>Lynbrook</td>\n",
       "      <td>11563</td>\n",
       "      <td>Mozilla/5.0_(Windows_NT_10.0;_Win64;_x64)_Appl...</td>\n",
       "      <td>Online_Medical_Journal</td>\n",
       "      <td>Website</td>\n",
       "      <td>https://www.medicalbag.com/</td>\n",
       "      <td>Genetic|Large|Autoimmune|Health|False|Abortion...</td>\n",
       "      <td>207R00000X</td>\n",
       "      <td>1.0</td>\n",
       "    </tr>\n",
       "  </tbody>\n",
       "</table>\n",
       "</div>"
      ],
      "text/plain": [
       "            ID DEVICETYPE PLATFORM_ID  BIDREQUESTIP  \\\n",
       "103516  104230    Desktop         2.0  68.129.74.33   \n",
       "\n",
       "                             USERPLATFORMUID  USERCITY USERZIPCODE  \\\n",
       "103516  46aee387-36ee-4f61-a458-dddba65e7a79  Lynbrook       11563   \n",
       "\n",
       "                                                USERAGENT  \\\n",
       "103516  Mozilla/5.0_(Windows_NT_10.0;_Win64;_x64)_Appl...   \n",
       "\n",
       "                  PLATFORMTYPE CHANNELTYPE                          URL  \\\n",
       "103516  Online_Medical_Journal     Website  https://www.medicalbag.com/   \n",
       "\n",
       "                                                 KEYWORDS    TAXONOMY IS_HCP  \n",
       "103516  Genetic|Large|Autoimmune|Health|False|Abortion...  207R00000X    1.0  "
      ]
     },
     "execution_count": 118,
     "metadata": {},
     "output_type": "execute_result"
    }
   ],
   "source": [
    "train.sample()"
   ]
  },
  {
   "cell_type": "code",
   "execution_count": 119,
   "metadata": {},
   "outputs": [
    {
     "data": {
      "text/plain": [
       "Index(['ID', 'DEVICETYPE', 'PLATFORM_ID', 'BIDREQUESTIP', 'USERPLATFORMUID',\n",
       "       'USERCITY', 'USERZIPCODE', 'USERAGENT', 'PLATFORMTYPE', 'CHANNELTYPE',\n",
       "       'URL', 'KEYWORDS'],\n",
       "      dtype='object')"
      ]
     },
     "execution_count": 119,
     "metadata": {},
     "output_type": "execute_result"
    }
   ],
   "source": [
    "test.columns        "
   ]
  },
  {
   "cell_type": "code",
   "execution_count": 120,
   "metadata": {},
   "outputs": [
    {
     "data": {
      "text/html": [
       "<div>\n",
       "<style scoped>\n",
       "    .dataframe tbody tr th:only-of-type {\n",
       "        vertical-align: middle;\n",
       "    }\n",
       "\n",
       "    .dataframe tbody tr th {\n",
       "        vertical-align: top;\n",
       "    }\n",
       "\n",
       "    .dataframe thead th {\n",
       "        text-align: right;\n",
       "    }\n",
       "</style>\n",
       "<table border=\"1\" class=\"dataframe\">\n",
       "  <thead>\n",
       "    <tr style=\"text-align: right;\">\n",
       "      <th></th>\n",
       "      <th>ID</th>\n",
       "      <th>DEVICETYPE</th>\n",
       "      <th>PLATFORM_ID</th>\n",
       "      <th>BIDREQUESTIP</th>\n",
       "      <th>USERPLATFORMUID</th>\n",
       "      <th>USERCITY</th>\n",
       "      <th>USERZIPCODE</th>\n",
       "      <th>USERAGENT</th>\n",
       "      <th>PLATFORMTYPE</th>\n",
       "      <th>CHANNELTYPE</th>\n",
       "      <th>URL</th>\n",
       "      <th>KEYWORDS</th>\n",
       "    </tr>\n",
       "  </thead>\n",
       "  <tbody>\n",
       "    <tr>\n",
       "      <th>1779</th>\n",
       "      <td>117280</td>\n",
       "      <td>Desktop</td>\n",
       "      <td>2.0</td>\n",
       "      <td>68.132.98.211</td>\n",
       "      <td>d76f7c0b-1a64-4d4b-b36d-86c832be8837</td>\n",
       "      <td>Deer Park</td>\n",
       "      <td>11729</td>\n",
       "      <td>Mozilla/5.0 (Windows NT 10.0; Win64; x64) Appl...</td>\n",
       "      <td>Online Medical Journal</td>\n",
       "      <td>Website</td>\n",
       "      <td>https://www.gastroenterologyadvisor.com/</td>\n",
       "      <td>Transplantation|Technology|Chronic|Neoplasms|U...</td>\n",
       "    </tr>\n",
       "  </tbody>\n",
       "</table>\n",
       "</div>"
      ],
      "text/plain": [
       "          ID DEVICETYPE PLATFORM_ID   BIDREQUESTIP  \\\n",
       "1779  117280    Desktop         2.0  68.132.98.211   \n",
       "\n",
       "                           USERPLATFORMUID   USERCITY USERZIPCODE  \\\n",
       "1779  d76f7c0b-1a64-4d4b-b36d-86c832be8837  Deer Park       11729   \n",
       "\n",
       "                                              USERAGENT  \\\n",
       "1779  Mozilla/5.0 (Windows NT 10.0; Win64; x64) Appl...   \n",
       "\n",
       "                PLATFORMTYPE CHANNELTYPE  \\\n",
       "1779  Online Medical Journal     Website   \n",
       "\n",
       "                                           URL  \\\n",
       "1779  https://www.gastroenterologyadvisor.com/   \n",
       "\n",
       "                                               KEYWORDS  \n",
       "1779  Transplantation|Technology|Chronic|Neoplasms|U...  "
      ]
     },
     "execution_count": 120,
     "metadata": {},
     "output_type": "execute_result"
    }
   ],
   "source": [
    "test.sample()"
   ]
  },
  {
   "cell_type": "code",
   "execution_count": null,
   "metadata": {},
   "outputs": [],
   "source": []
  }
 ],
 "metadata": {
  "kernelspec": {
   "display_name": "Python 3",
   "language": "python",
   "name": "python3"
  },
  "language_info": {
   "codemirror_mode": {
    "name": "ipython",
    "version": 3
   },
   "file_extension": ".py",
   "mimetype": "text/x-python",
   "name": "python",
   "nbconvert_exporter": "python",
   "pygments_lexer": "ipython3",
   "version": "3.11.3"
  },
  "orig_nbformat": 4
 },
 "nbformat": 4,
 "nbformat_minor": 2
}
